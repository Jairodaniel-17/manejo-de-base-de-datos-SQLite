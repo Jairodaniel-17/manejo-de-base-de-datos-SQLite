{
 "cells": [
  {
   "cell_type": "code",
   "execution_count": null,
   "metadata": {},
   "outputs": [],
   "source": [
    "import sqlite3\n",
    "\n",
    "conexion = sqlite3.connect(\"bdbiblioteca.db\")\n",
    "# En una cadena guardaremos el script de creacion de la tabla pais\n",
    "tabla_pais = \"\"\"CREATE TABLE pais(\n",
    "idpais INTEGER PRIMARY KEY AUTOINCREMENT,\n",
    "nombre TEXT UNIQUE,\n",
    "estado TEXT\n",
    ")\n",
    "\"\"\"\n",
    "tabla_editorial = \"\"\" CREATE TABLE editorial(\n",
    "ideditorial INTEGER PRIMARY KEY AUTOINCREMENT,\n",
    "nombre TEXT,\n",
    "estado TEXT\n",
    ")\n",
    "\"\"\"\n",
    "tabla_autor = \"\"\" CREATE TABLE autor(\n",
    "idautor INTEGER PRIMARY KEY AUTOINCREMENT,\n",
    "nombre TEXT,\n",
    "f_nacimiento TEXT\n",
    ")\n",
    "\"\"\"\n",
    "tabla_libro = \"\"\" CREATE TABLE libro(\n",
    "idlibro INTEGER PRIMARY KEY AUTOINCREMENT,\n",
    "titulo TEXT,\n",
    "cantidad INTEGER,\n",
    "anio INTEGER,\n",
    "precio REAL,\n",
    "estado TEXT,\n",
    "idpais INTEGER REFERENCES pais,\n",
    "ideditorial INTEGER REFERENCES editorial,\n",
    "idautor INTEGER REFERENCES autor\n",
    ")\n",
    "\"\"\"\n",
    "cursor = conexion.cursor()\n",
    "cursor.execute(tabla_pais)\n",
    "cursor.execute(tabla_editorial)\n",
    "cursor.execute(tabla_autor)\n",
    "cursor.execute(tabla_libro)\n",
    "conexion.close()"
   ]
  },
  {
   "cell_type": "code",
   "execution_count": 1,
   "metadata": {},
   "outputs": [],
   "source": [
    "import sqlite3\n",
    "\n",
    "conexion = sqlite3.connect(\"bdbiblioteca.db\")\n",
    "consulta = \"\"\"INSERT INTO\n",
    "PAIS (NOMBRE, ESTADO)\n",
    "VALUES ('Brasil', 'A')\n",
    "\"\"\"\n",
    "cursor = conexion.cursor()\n",
    "cursor.execute(consulta)\n",
    "conexion.commit()\n",
    "conexion.close()"
   ]
  },
  {
   "cell_type": "code",
   "execution_count": 2,
   "metadata": {},
   "outputs": [],
   "source": [
    "import sqlite3\n",
    "\n",
    "conexion = sqlite3.connect(\"bdbiblioteca.db\")\n",
    "cursor = conexion.cursor()\n",
    "lista_autores = [\n",
    "    (\"Flor Cerdán\", \"25/10/1978\"),\n",
    "    (\"Daniel Levano\", \"17/01/1980\"),\n",
    "    (\"Omar Peña\", \"15/10/1978\"),\n",
    "    (\"Cesar Zapata\", \"15/10/1960\"),\n",
    "]\n",
    "lista_editoriales = [\n",
    "    (\"EIU\", \"A\"),\n",
    "    (\"Macro\", \"A\"),\n",
    "    (\"Bosch\", \"A\"),\n",
    "    (\"Lima Sur\", \"A\"),\n",
    "    (\"Pirámide\", \"A\"),\n",
    "    (\"Colombus\", \"A\"),\n",
    "    (\"Centro\", \"A\"),\n",
    "]\n",
    "lista_paises = [\n",
    "    (\"Argentina\", \"A\"),\n",
    "    (\"Colombia\", \"A\"),\n",
    "    (\"Venezuela\", \"A\"),\n",
    "    (\"Uruguay\", \"A\"),\n",
    "    (\"Paraguay\", \"A\"),\n",
    "    (\"USA\", \"A\"),\n",
    "]\n",
    "lista_libros = [\n",
    "    (\"Oracle 11g\", 10, 2019, 50, \"A\", 1, 1, 1),\n",
    "    (\"Sistemas Operativos\", 14, 2016, 59, \"A\", 1, 4, 3),\n",
    "    (\"Estructuras de Datos\", 6, 2018, 20, \"A\", 2, 2, 3),\n",
    "    (\"Algoritmos con Python\", 8, 2017, 70, \"A\", 2, 2, 1),\n",
    "    (\"BI\", 6, 1998, 50, \"A\", 1, 4, 2),\n",
    "    (\"Ing. de Software\", 9, 2000, 56, \"A\", 3, 2, 4),\n",
    "    (\"Organización de PC\", 9, 2016, 60, \"A\", 7, 2, 1),\n",
    "    (\"Ensamblaje\", 9, 2018, 50, \"A\", 4, 4, 3),\n",
    "]\n",
    "consulta_pais = \"\"\"INSERT INTO\n",
    "PAIS(NOMBRE, ESTADO)\n",
    "VALUES (?,?)\n",
    "\"\"\"\n",
    "consulta_editorial = \"\"\"INSERT INTO\n",
    "EDITORIAL(NOMBRE, ESTADO)\n",
    "VALUES (?,?)\n",
    "\"\"\"\n",
    "consulta_autor = \"\"\"INSERT INTO\n",
    "AUTOR(NOMBRE, F_NACIMIENTO)\n",
    "VALUES (?,?)\n",
    "\"\"\"\n",
    "consulta_libro = \"\"\"INSERT INTO\n",
    "LIBRO(TITULO, CANTIDAD, ANIO, PRECIO, ESTADO, IDAUTOR, IDEDITORIAL, IDPAIS)\n",
    "VALUES (?,?,?,?,?,?,?,?)\n",
    "\"\"\"\n",
    "cursor.executemany(consulta_pais, lista_paises)\n",
    "cursor.executemany(consulta_editorial, lista_editoriales)\n",
    "cursor.executemany(consulta_autor, lista_autores)\n",
    "cursor.executemany(consulta_libro, lista_libros)\n",
    "conexion.commit()\n",
    "conexion.close()"
   ]
  },
  {
   "cell_type": "code",
   "execution_count": 4,
   "metadata": {},
   "outputs": [
    {
     "name": "stdout",
     "output_type": "stream",
     "text": [
      "(4, 'Algoritmos con Python', 8, 2017, 70.0, 'A', 1, 2, 2)\n",
      "(6, 'Ing. de Software', 9, 2000, 56.0, 'A', 4, 2, 3)\n",
      "(7, 'Organización de PC', 9, 2016, 60.0, 'A', 1, 2, 7)\n",
      "(2, 'Sistemas Operativos', 14, 2016, 59.0, 'A', 3, 4, 1)\n"
     ]
    }
   ],
   "source": [
    "import sqlite3\n",
    "\n",
    "conexion = sqlite3.connect(\"bdbiblioteca.db\")\n",
    "cursor = conexion.cursor()\n",
    "consulta = \"\"\" SELECT * FROM LIBRO WHERE precio >= 55 ORDER BY titulo \"\"\"\n",
    "cursor = conexion.cursor()\n",
    "cursor.execute(consulta)\n",
    "libros = cursor.fetchall()\n",
    "# Acá libros es una lista... entonces utilizamos un for\n",
    "for libro in libros:\n",
    "    print(libro)\n",
    "conexion.close()"
   ]
  },
  {
   "cell_type": "code",
   "execution_count": 5,
   "metadata": {},
   "outputs": [],
   "source": [
    "import sqlite3\n",
    "conexion = sqlite3.connect(\"bdbiblioteca.db\")\n",
    "cursor = conexion.cursor()\n",
    "consulta = \"\"\"DELETE FROM EDITORIAL WHERE IDEDITORIAL = 5\"\"\"\n",
    "cursor = conexion.cursor()\n",
    "cursor.execute(consulta)\n",
    "conexion.commit()\n",
    "conexion.close()"
   ]
  },
  {
   "cell_type": "code",
   "execution_count": 6,
   "metadata": {},
   "outputs": [],
   "source": [
    "import sqlite3\n",
    "conexion = sqlite3.connect(\"bdbiblioteca.db\")\n",
    "cursor = conexion.cursor()\n",
    "consulta = \"\"\"UPDATE EDITORIAL SET NOMBRE = 'Editorial Imprenta Unión' WHERE IDEDITORIAL = 1 \"\"\"\n",
    "cursor = conexion.cursor()\n",
    "cursor.execute(consulta)\n",
    "conexion.commit()\n",
    "\n",
    "conexion.close()"
   ]
  },
  {
   "cell_type": "code",
   "execution_count": 9,
   "metadata": {},
   "outputs": [
    {
     "name": "stdout",
     "output_type": "stream",
     "text": [
      "(1, 'Editorial Imprenta Unión', 'A')\n",
      "(2, 'Macro', 'A')\n",
      "(3, 'Bosch', 'A')\n",
      "(4, 'Lima Sur', 'A')\n",
      "(6, 'Colombus', 'A')\n",
      "(7, 'Centro', 'A')\n"
     ]
    }
   ],
   "source": [
    "conexion = sqlite3.connect(\"bdbiblioteca.db\")\n",
    "consultalistar = \"\"\"SELECT * FROM EDITORIAL\"\"\"\n",
    "cursor = conexion.cursor()\n",
    "cursor.execute(consultalistar)\n",
    "editoriales = cursor.fetchall()\n",
    "for editorial in editoriales:\n",
    "    print(editorial)\n",
    "conexion.close()"
   ]
  }
 ],
 "metadata": {
  "kernelspec": {
   "display_name": "base",
   "language": "python",
   "name": "python3"
  },
  "language_info": {
   "codemirror_mode": {
    "name": "ipython",
    "version": 3
   },
   "file_extension": ".py",
   "mimetype": "text/x-python",
   "name": "python",
   "nbconvert_exporter": "python",
   "pygments_lexer": "ipython3",
   "version": "3.10.9"
  },
  "orig_nbformat": 4
 },
 "nbformat": 4,
 "nbformat_minor": 2
}
